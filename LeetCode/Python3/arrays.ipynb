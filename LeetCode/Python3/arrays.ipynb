{
 "cells": [
  {
   "cell_type": "code",
   "execution_count": 1,
   "id": "fc61cbe3",
   "metadata": {},
   "outputs": [],
   "source": [
    "#imports\n",
    "from typing import List\n",
    "import unittest"
   ]
  },
  {
   "cell_type": "code",
   "execution_count": 2,
   "id": "f8b6f583",
   "metadata": {},
   "outputs": [],
   "source": [
    "class TwoSumSol:\n",
    "    def twoSum(self, nums: List[int], target: int) -> List[int]:\n",
    "        seen = {}\n",
    "        for i, v in enumerate(nums):\n",
    "            need = target - v\n",
    "            if need in seen:\n",
    "                return [seen[need], i]\n",
    "            seen[v] = i\n",
    "        return []"
   ]
  },
  {
   "cell_type": "code",
   "execution_count": 3,
   "id": "1dd0ce74",
   "metadata": {},
   "outputs": [
    {
     "name": "stderr",
     "output_type": "stream",
     "text": [
      "test_1 (__main__.TestTwoSumSol.test_1) ... ok\n",
      "test_2 (__main__.TestTwoSumSol.test_2) ... ok\n",
      "test_negatives (__main__.TestTwoSumSol.test_negatives) ... ok\n",
      "test_no_sol (__main__.TestTwoSumSol.test_no_sol) ... ok\n",
      "\n",
      "----------------------------------------------------------------------\n",
      "Ran 4 tests in 0.002s\n",
      "\n",
      "OK\n"
     ]
    },
    {
     "data": {
      "text/plain": [
       "<unittest.main.TestProgram at 0x205028e0800>"
      ]
     },
     "execution_count": 3,
     "metadata": {},
     "output_type": "execute_result"
    }
   ],
   "source": [
    "class TestTwoSumSol(unittest.TestCase):\n",
    "    def setUp(self):\n",
    "        self.sol = TwoSumSol()\n",
    "\n",
    "    def test_1(self):\n",
    "        self.assertEqual(self.sol.twoSum([2, 7, 11, 15], 9), [0, 1])\n",
    "\n",
    "    def test_2(self):\n",
    "        self.assertEqual(self.sol.twoSum([3, 2, 4], 6), [1, 2])\n",
    "\n",
    "    def test_negatives(self):\n",
    "        self.assertEqual(self.sol.twoSum([-1, -2, -3, -4, -5],-8), [2, 4])\n",
    "\n",
    "    def test_no_sol(self):\n",
    "        self.assertEqual(self.sol.twoSum([1, 2, 3], 7), [])\n",
    "\n",
    "unittest.main(argv=[''], verbosity=2, exit=False)"
   ]
  },
  {
   "cell_type": "markdown",
   "id": "da736999",
   "metadata": {},
   "source": [
    "### Move Zeroes\n",
    "\n",
    "Given an integer array nums, move all 0's to the end of it while maintaining the relative order of the non-zero elements.\n",
    "\n",
    "Note that you must do this in-place without making a copy of the array.\n",
    "\n",
    " \n",
    "\n",
    "Example 1:\n",
    "\n",
    "Input: nums = [0,1,0,3,12]\n",
    "Output: [1,3,12,0,0]\n",
    "Example 2:\n",
    "\n",
    "Input: nums = [0]\n",
    "Output: [0]\n",
    " \n",
    "\n",
    "Constraints:\n",
    "\n",
    "1 <= nums.length <= 104\n",
    "-231 <= nums[i] <= 231 - 1\n",
    " \n",
    "\n",
    "Follow up: Could you minimize the total number of operations done?"
   ]
  },
  {
   "cell_type": "code",
   "execution_count": 4,
   "id": "ed0cdaf5",
   "metadata": {},
   "outputs": [],
   "source": [
    "class moveZeroSol:\n",
    "    def moveZeroes(self, nums: List[int]) -> None:\n",
    "        \"\"\"\n",
    "        Do not return anything, modify nums in-place instead.\n",
    "        \"\"\"\n",
    "        last_non_zero = 0\n",
    "\n",
    "        for i in range(len(nums)):\n",
    "            if nums[i] != 0:\n",
    "                nums[last_non_zero], nums[i] = nums[i], nums[last_non_zero]\n",
    "                last_non_zero += 1\n",
    "\n"
   ]
  },
  {
   "cell_type": "code",
   "execution_count": 8,
   "id": "f1d438d6",
   "metadata": {},
   "outputs": [
    {
     "name": "stderr",
     "output_type": "stream",
     "text": [
      "test_1 (__main__.TestMoveZero.test_1) ... ok\n",
      "test_2 (__main__.TestMoveZero.test_2) ... ok\n",
      "\n",
      "----------------------------------------------------------------------\n",
      "Ran 2 tests in 0.001s\n",
      "\n",
      "OK\n"
     ]
    },
    {
     "data": {
      "text/plain": [
       "<unittest.main.TestProgram at 0x2050293ee70>"
      ]
     },
     "execution_count": 8,
     "metadata": {},
     "output_type": "execute_result"
    }
   ],
   "source": [
    "class TestMoveZero(unittest.TestCase):\n",
    "    def setUp(self):\n",
    "        self.sol = moveZeroSol()\n",
    "\n",
    "    def test_1(self):\n",
    "        nums = [0,1,0,3,12]\n",
    "        self.sol.moveZeroes(nums)\n",
    "        self.assertEqual(nums, [1,3,12,0,0])\n",
    "\n",
    "    def test_2(self):\n",
    "        nums = [0]\n",
    "        self.sol.moveZeroes(nums)\n",
    "        self.assertEqual(nums, [0])\n",
    "\n",
    "unittest.main(defaultTest='TestMoveZero', argv=[''], verbosity=2, exit=False)"
   ]
  }
 ],
 "metadata": {
  "kernelspec": {
   "display_name": "Python 3",
   "language": "python",
   "name": "python3"
  },
  "language_info": {
   "codemirror_mode": {
    "name": "ipython",
    "version": 3
   },
   "file_extension": ".py",
   "mimetype": "text/x-python",
   "name": "python",
   "nbconvert_exporter": "python",
   "pygments_lexer": "ipython3",
   "version": "3.12.10"
  }
 },
 "nbformat": 4,
 "nbformat_minor": 5
}
