{
 "cells": [
  {
   "cell_type": "code",
   "execution_count": 3,
   "id": "f63d8dcb",
   "metadata": {},
   "outputs": [],
   "source": [
    "import unittest"
   ]
  },
  {
   "cell_type": "code",
   "execution_count": 13,
   "id": "7c3e08d3",
   "metadata": {},
   "outputs": [],
   "source": [
    "# My solution\n",
    "from string import *\n",
    "\n",
    "def replace_string(text):\n",
    "\n",
    "    new_string = []\n",
    "    for char in text:\n",
    "        if char.isalpha():\n",
    "            new_string.append(str(ascii_lowercase.index(char.lower())+1))\n",
    "\n",
    "    return \" \".join(new_string)\n",
    "\n",
    "# #optimal solution\n",
    "# def replace_string(text):\n",
    "#     out = []\n",
    "#     for c in text.lower():\n",
    "#         if 'a' <= c <= 'z':\n",
    "#             out.append(str(ord(c) - ord('a') + 1))\n",
    "    \n",
    "#     return \" \".join(out)\n"
   ]
  },
  {
   "cell_type": "code",
   "execution_count": 14,
   "id": "aec74720",
   "metadata": {},
   "outputs": [
    {
     "name": "stderr",
     "output_type": "stream",
     "text": [
      ".....\n",
      "----------------------------------------------------------------------\n",
      "Ran 5 tests in 0.001s\n",
      "\n",
      "OK\n"
     ]
    }
   ],
   "source": [
    "class TestAlphabetPosition(unittest.TestCase):\n",
    "    def test_sunset(self):\n",
    "        self.assertEqual(\n",
    "            replace_string(\"The sunset sets at twelve o' clock.\"),\n",
    "            \"20 8 5 19 21 14 19 5 20 19 5 20 19 1 20 20 23 5 12 22 5 15 3 12 15 3 11\"\n",
    "        )\n",
    "\n",
    "    def test_narwhal(self):\n",
    "        self.assertEqual(\n",
    "            replace_string(\"The narwhal bacons at midnight.\"),\n",
    "            \"20 8 5 14 1 18 23 8 1 12 2 1 3 15 14 19 1 20 13 9 4 14 9 7 8 20\"\n",
    "        )\n",
    "\n",
    "    def test_digits_only(self):\n",
    "        self.assertEqual(\n",
    "            replace_string(\"0123456789\"),\n",
    "            \"\"\n",
    "        )\n",
    "\n",
    "    def test_punctuation_only(self):\n",
    "        self.assertEqual(\n",
    "            replace_string(\",./<>?-_=+ \"),\n",
    "            \"\"\n",
    "        )\n",
    "\n",
    "    def test_empty_string(self):\n",
    "        self.assertEqual(\n",
    "            replace_string(\"\"),\n",
    "            \"\"\n",
    "        )\n",
    "\n",
    "\n",
    "if __name__ == \"__main__\":\n",
    "    # Ignore Jupyter/IPython args and don’t call sys.exit()\n",
    "    unittest.main(argv=['ignored'], exit=False)"
   ]
  }
 ],
 "metadata": {
  "kernelspec": {
   "display_name": "Python 3",
   "language": "python",
   "name": "python3"
  },
  "language_info": {
   "codemirror_mode": {
    "name": "ipython",
    "version": 3
   },
   "file_extension": ".py",
   "mimetype": "text/x-python",
   "name": "python",
   "nbconvert_exporter": "python",
   "pygments_lexer": "ipython3",
   "version": "3.12.10"
  }
 },
 "nbformat": 4,
 "nbformat_minor": 5
}
